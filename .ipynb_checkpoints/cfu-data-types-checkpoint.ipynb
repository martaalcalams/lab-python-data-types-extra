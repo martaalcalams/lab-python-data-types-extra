{
 "cells": [
  {
   "cell_type": "markdown",
   "metadata": {},
   "source": [
    "# CFU | Data Types"
   ]
  },
  {
   "cell_type": "markdown",
   "metadata": {},
   "source": [
    "## Working with Data Types"
   ]
  },
  {
   "cell_type": "markdown",
   "metadata": {},
   "source": [
    "Objective: Practice working with different data types and their corresponding operations."
   ]
  },
  {
   "cell_type": "markdown",
   "metadata": {},
   "source": [
    "### Exercise 1: Calculate remaining salary"
   ]
  },
  {
   "cell_type": "markdown",
   "metadata": {},
   "source": [
    "In this exercise, prompt the user to enter their personal information such as name, age, address, salary, and expenses, and then perform some calculations to determine how much money they have left after expenses. \n",
    "\n",
    "Use data type casting to ensure that the age, salary, and expenses are stored as integers or floats, as appropriate, and round the remaining money to one decimal. \n",
    "\n",
    "Use a boolean variable to indicate whether the remaining salary is greater than or equal to 500. \n",
    "\n",
    "Finally, you will use string formatting to print a message to the screen in the following format: \n",
    "\"*name*, who is *age* years old, and lives in *address* has *remaining_salary* dollars left from her salary after expenses. It is *is_salary_good* that she has more than $500 left.\", using the mentioned variables.\n",
    "\n",
    "*Hint:* \n",
    "- *You can use the input() function to ask the user to enter their information. Beware that input() function returns a String.*\n",
    "- *You can round the remaining salary to one decimal using the round() function.*\n",
    "- *Use data type conversion functions. Recommended external resources: [Data type conversion](https://www.geeksforgeeks.org/type-conversion-in-python/)*"
   ]
  },
  {
   "cell_type": "code",
   "execution_count": 15,
   "metadata": {},
   "outputs": [
    {
     "name": "stdin",
     "output_type": "stream",
     "text": [
      "PLease enter your name: john\n",
      "please enter your address: calle serrano\n",
      "please enter your age: 29\n",
      "please enter your monthly salary: 1900\n",
      "please enter your monthly expenses: 850\n"
     ]
    }
   ],
   "source": [
    "name = input(\"PLease enter your name:\")\n",
    "address = input(\"please enter your address:\")\n",
    "age = int(input(\"please enter your age:\"))\n",
    "salary = float(input(\"please enter your monthly salary:\"))\n",
    "expenses = float(input(\"please enter your monthly expenses:\"))"
   ]
  },
  {
   "cell_type": "code",
   "execution_count": 18,
   "metadata": {},
   "outputs": [
    {
     "name": "stdout",
     "output_type": "stream",
     "text": [
      "1050.0\n"
     ]
    }
   ],
   "source": [
    "remaining_salary = salary - expenses\n",
    "print (remaining_salary)"
   ]
  },
  {
   "cell_type": "code",
   "execution_count": 21,
   "metadata": {},
   "outputs": [
    {
     "name": "stdout",
     "output_type": "stream",
     "text": [
      "1050.0\n"
     ]
    }
   ],
   "source": [
    "rounded_remaining_salary = round(remaining_salary, 1)\n",
    "print(rounded_remaining_salary)\n",
    "is_salary_good"
   ]
  },
  {
   "cell_type": "code",
   "execution_count": 30,
   "metadata": {},
   "outputs": [
    {
     "name": "stdout",
     "output_type": "stream",
     "text": [
      "True\n"
     ]
    }
   ],
   "source": [
    "is_salary_good = remaining_salary >= 500\n",
    "print(is_salary_good)"
   ]
  },
  {
   "cell_type": "code",
   "execution_count": 32,
   "metadata": {},
   "outputs": [
    {
     "name": "stdout",
     "output_type": "stream",
     "text": [
      "john, who is 29 years old, and lives in calle serrano has 1050.0 dollars left from their salary after expenses. It is True that they have more than $500 left.\n"
     ]
    }
   ],
   "source": [
    "message = (\n",
    "    f\"{name}, who is {age} years old, and lives in {address} has \"\n",
    "    f\"{remaining_salary} dollars left from their salary after expenses. \"\n",
    "    f\"It is {is_salary_good} that they have more than $500 left.\"\n",
    ")\n",
    "print(message)"
   ]
  },
  {
   "cell_type": "markdown",
   "metadata": {},
   "source": [
    "\n",
    "### Exercise 2: Text Cleaning and Concatenation"
   ]
  },
  {
   "cell_type": "markdown",
   "metadata": {},
   "source": [
    "Write code that takes text from the variable `poem`, removes the punctuation and leaves everything in lowercase. \n",
    "\n",
    "Concatenate the resulting string with the string \"python is awesome!\" and store the result in a new variable. \n",
    "\n",
    "Print the length of the new string.\n",
    "\n",
    "Split the string into a list of strings using the space delimiter, save it in a variable `poem_list` and print it. \n",
    "\n",
    "*Hint:*\n",
    "\n",
    "- *You can use the len() function to get the length of a string.*\n",
    "- *Search string methods to accomplish the other steps. Recommended External Resources: [Python String Methods](https://www.w3schools.com/python/python_ref_string.asp)*\n",
    "- *Use method chaining to simplify your code. If you are not sure what it is, read this tutorial before: https://pyneng.readthedocs.io/en/latest/book/04_data_structures/method_chaining.html*\n"
   ]
  },
  {
   "cell_type": "code",
   "execution_count": 34,
   "metadata": {},
   "outputs": [],
   "source": [
    "poem = \"\"\"Some say the world will end in fire,\n",
    "Some say in ice.\n",
    "From what I’ve tasted of desire\n",
    "I hold with those who favor fire.\n",
    "But if it had to perish twice,\n",
    "I think I know enough of hate\n",
    "To say that for destruction ice\n",
    "Is also great\n",
    "And would suffice.\"\"\""
   ]
  },
  {
   "cell_type": "code",
   "execution_count": 49,
   "metadata": {},
   "outputs": [],
   "source": [
    "import string"
   ]
  },
  {
   "cell_type": "code",
   "execution_count": 50,
   "metadata": {},
   "outputs": [
    {
     "name": "stdout",
     "output_type": "stream",
     "text": [
      "some say the world will end in fire\n",
      "some say in ice\n",
      "from what i’ve tasted of desire\n",
      "i hold with those who favor fire\n",
      "but if it had to perish twice\n",
      "i think i know enough of hate\n",
      "to say that for destruction ice\n",
      "is also great\n",
      "and would suffice\n"
     ]
    }
   ],
   "source": [
    "poem_cleaned = poem.translate(str.maketrans('', '', string.punctuation)).lower()\n",
    "print(poem_cleaned)"
   ]
  },
  {
   "cell_type": "code",
   "execution_count": 54,
   "metadata": {},
   "outputs": [
    {
     "name": "stdout",
     "output_type": "stream",
     "text": [
      "some say the world will end in fire\n",
      "some say in ice\n",
      "from what i’ve tasted of desire\n",
      "i hold with those who favor fire\n",
      "but if it had to perish twice\n",
      "i think i know enough of hate\n",
      "to say that for destruction ice\n",
      "is also great\n",
      "and would suffice python is awesome!\n"
     ]
    }
   ],
   "source": [
    "poem_concatenated = poem_cleaned + \" python is awesome!\"\n",
    "print(poem_concatenated)"
   ]
  },
  {
   "cell_type": "code",
   "execution_count": 56,
   "metadata": {},
   "outputs": [
    {
     "name": "stdout",
     "output_type": "stream",
     "text": [
      "the length of the new string is: 259\n"
     ]
    }
   ],
   "source": [
    "length = len(poem_concatenated)\n",
    "print(f\"the length of the new string is: {length}\")"
   ]
  },
  {
   "cell_type": "code",
   "execution_count": 62,
   "metadata": {},
   "outputs": [
    {
     "name": "stdout",
     "output_type": "stream",
     "text": [
      "Resulting list : ['some', 'say', 'the', 'world', 'will', 'end', 'in', 'fire', 'some', 'say', 'in', 'ice', 'from', 'what', 'i’ve', 'tasted', 'of', 'desire', 'i', 'hold', 'with', 'those', 'who', 'favor', 'fire', 'but', 'if', 'it', 'had', 'to', 'perish', 'twice', 'i', 'think', 'i', 'know', 'enough', 'of', 'hate', 'to', 'say', 'that', 'for', 'destruction', 'ice', 'is', 'also', 'great', 'and', 'would', 'suffice', 'python', 'is', 'awesome!']\n"
     ]
    }
   ],
   "source": [
    "poem_list = poem_concatenated.split()\n",
    "print(f\"Resulting list : {poem_list}\")"
   ]
  }
 ],
 "metadata": {
  "kernelspec": {
   "display_name": "Python 3 (ipykernel)",
   "language": "python",
   "name": "python3"
  },
  "language_info": {
   "codemirror_mode": {
    "name": "ipython",
    "version": 3
   },
   "file_extension": ".py",
   "mimetype": "text/x-python",
   "name": "python",
   "nbconvert_exporter": "python",
   "pygments_lexer": "ipython3",
   "version": "3.12.4"
  }
 },
 "nbformat": 4,
 "nbformat_minor": 4
}
